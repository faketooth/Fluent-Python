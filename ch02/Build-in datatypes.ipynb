{
 "cells": [
  {
   "cell_type": "markdown",
   "metadata": {},
   "source": [
    "## 内置序列类型\n",
    "\n",
    "### 容器序列\n",
    "    list, tuple, collections.deque 这些序列能存放不同的数据类型\n",
    "   \n",
    "### 扁平序列\n",
    "    str, bytes, bytearray, memoryview 和 array.array, 这类序列只能容纳一种类型.\n",
    "    \n",
    "前者存放的是包含的任意类型的对象的引用, 后者存放的是值而不是引用.\n",
    "\n",
    "按照是否可以被修改来区别:\n",
    "\n",
    "### 可变序列\n",
    "    list, bytearray, array.array, collections.deque 和 memoryview.\n",
    "    \n",
    "### 不可变序列\n",
    "    tuple, str 和 bytes."
   ]
  },
  {
   "cell_type": "markdown",
   "metadata": {},
   "source": [
    "![](./picture2-1.jpeg)"
   ]
  },
  {
   "cell_type": "code",
   "execution_count": null,
   "metadata": {
    "collapsed": true
   },
   "outputs": [],
   "source": []
  }
 ],
 "metadata": {
  "kernelspec": {
   "display_name": "Python 2",
   "language": "python",
   "name": "python2"
  },
  "language_info": {
   "codemirror_mode": {
    "name": "ipython",
    "version": 2
   },
   "file_extension": ".py",
   "mimetype": "text/x-python",
   "name": "python",
   "nbconvert_exporter": "python",
   "pygments_lexer": "ipython2",
   "version": "2.7.11"
  }
 },
 "nbformat": 4,
 "nbformat_minor": 0
}
